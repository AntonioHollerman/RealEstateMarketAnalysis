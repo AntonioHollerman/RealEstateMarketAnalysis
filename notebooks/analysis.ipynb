{
 "cells": [
  {
   "cell_type": "code",
   "id": "initial_id",
   "metadata": {
    "collapsed": true,
    "ExecuteTime": {
     "end_time": "2025-01-03T16:05:21.181955Z",
     "start_time": "2025-01-03T16:05:21.160007Z"
    }
   },
   "source": "from scripts import *",
   "outputs": [],
   "execution_count": 1
  },
  {
   "metadata": {},
   "cell_type": "markdown",
   "source": "**Task**: Find the worst and best year to buy a house in the United States",
   "id": "895f19e10fd03961"
  },
  {
   "metadata": {
    "ExecuteTime": {
     "end_time": "2025-01-03T16:05:21.212868Z",
     "start_time": "2025-01-03T16:05:21.190928Z"
    }
   },
   "cell_type": "code",
   "source": [
    "years = range(2009, 2024)\n",
    "\n",
    "best_year = 2009\n",
    "smallest_cut = 1.0\n",
    "\n",
    "worst_year = 2009\n",
    "biggest_cut = 0.0\n",
    "\n",
    "for year in years:\n",
    "    salary_cut = get_us_salary_cut_from_year(year)\n",
    "    \n",
    "    if salary_cut < smallest_cut:\n",
    "        best_year = year\n",
    "        smallest_cut = salary_cut\n",
    "    if salary_cut > biggest_cut:\n",
    "        worst_year = year\n",
    "        biggest_cut = salary_cut\n",
    "\n",
    "print(f\"Most affordable time to get a house is {best_year}, with the mortgage costing {smallest_cut * 100:.1f}% of the median salary\")\n",
    "print(f\"Median Salary: {get_us_median_salary(best_year)}\")\n",
    "print(f\"Home price: {get_us_median_house_sale(best_year)}\")\n",
    "print(f\"Interest rate: {get_interest_rate(best_year) * 100:.1f}%\", end=\"\\n\\n\")\n",
    "print(f\"Least affordable time to get a house is {worst_year}, with the mortgage costing {biggest_cut * 100:.1f}% of the median salary\")\n",
    "print(f\"Median Salary: {get_us_median_salary(worst_year)}\")\n",
    "print(f\"Home price: {get_us_median_house_sale(worst_year)}\")\n",
    "print(f\"Interest rate: {get_interest_rate(worst_year) * 100:.1f}%\")"
   ],
   "id": "5b581e67e76f0294",
   "outputs": [
    {
     "name": "stdout",
     "output_type": "stream",
     "text": [
      "Most affordable time to get a house is 2009, with the mortgage costing 20.4% of the median salary\n",
      "Median Salary: 68340.0\n",
      "Home price: 215650.0\n",
      "Interest rate: 5.0%\n",
      "\n",
      "Least affordable time to get a house is 2023, with the mortgage costing 41.4% of the median salary\n",
      "Median Salary: 80610.0\n",
      "Home price: 426525.0\n",
      "Interest rate: 6.8%\n"
     ]
    }
   ],
   "execution_count": 2
  },
  {
   "metadata": {},
   "cell_type": "markdown",
   "source": "**Task**: Find most and least affordable states to buy a house in 2008",
   "id": "89e338b05b74cce9"
  },
  {
   "metadata": {
    "ExecuteTime": {
     "end_time": "2025-01-03T16:05:21.321865Z",
     "start_time": "2025-01-03T16:05:21.291945Z"
    }
   },
   "cell_type": "code",
   "source": [
    "best_state = states[0]\n",
    "smallest_cut = 1.0\n",
    "\n",
    "worst_state = states[0]\n",
    "biggest_cut = 0\n",
    "\n",
    "for state in states:\n",
    "    salary_cut = get_salary_cut_from_state_and_year(state, 2009)\n",
    "    \n",
    "    if salary_cut < smallest_cut:\n",
    "        best_state = state\n",
    "        smallest_cut = salary_cut\n",
    "    if salary_cut > biggest_cut:\n",
    "        worst_state = state\n",
    "        biggest_cut = salary_cut\n",
    "\n",
    "print(f\"Most affordable state to buy a house in 2008 is {best_state}, with the mortgage costing {smallest_cut * 100:.1f}% of the median salary\")\n",
    "print(f\"Median Salary: {get_median_salary(best_state, 2009)}\")\n",
    "print(f\"Home price: {get_median_house_sale(best_state, 2009):.2f}\")\n",
    "print(f\"Interest rate: {get_interest_rate(2009) * 100:.1f}%\", end=\"\\n\\n\")\n",
    "print(f\"Least affordable state to buy a house in 2008 is {worst_state}, with the mortgage costing {biggest_cut * 100:.1f}% of the median salary\")\n",
    "print(f\"Median Salary: {get_median_salary(worst_state, 2009)}\")\n",
    "print(f\"Home price: {get_median_house_sale(worst_state, 2009):.2f}\")\n",
    "print(f\"Interest rate: {get_interest_rate(2009) * 100:.1f}%\")"
   ],
   "id": "148d6cc85c2dff3e",
   "outputs": [
    {
     "name": "stdout",
     "output_type": "stream",
     "text": [
      "Most affordable state to buy a house in 2008 is Michigan, with the mortgage costing 10.9% of the median salary\n",
      "Median Salary: 63140.0\n",
      "Home price: 106671.80\n",
      "Interest rate: 5.0%\n",
      "\n",
      "Least affordable state to buy a house in 2008 is Hawaii, with the mortgage costing 35.8% of the median salary\n",
      "Median Salary: 76400.0\n",
      "Home price: 422965.94\n",
      "Interest rate: 5.0%\n"
     ]
    }
   ],
   "execution_count": 3
  },
  {
   "metadata": {},
   "cell_type": "markdown",
   "source": "**Task**: Find the most and least affordable states to buy a hose in 2023",
   "id": "f1d056bf0884aedc"
  },
  {
   "metadata": {
    "ExecuteTime": {
     "end_time": "2025-01-03T16:05:21.398172Z",
     "start_time": "2025-01-03T16:05:21.360761Z"
    }
   },
   "cell_type": "code",
   "source": [
    "best_state = states[0]\n",
    "smallest_cut = 1.0\n",
    "\n",
    "worst_state = states[0]\n",
    "biggest_cut = 0\n",
    "\n",
    "for state in states:\n",
    "    salary_cut = get_salary_cut_from_state_and_year(state, 2023)\n",
    "\n",
    "    if salary_cut < smallest_cut:\n",
    "        best_state = state\n",
    "        smallest_cut = salary_cut\n",
    "    if salary_cut > biggest_cut:\n",
    "        worst_state = state\n",
    "        biggest_cut = salary_cut\n",
    "\n",
    "print(f\"Most affordable state to buy a house in 2023 is {best_state}, with the mortgage costing {smallest_cut * 100:.1f}% of the median salary\")\n",
    "print(f\"Median Salary: {get_median_salary(best_state, 2023)}\")\n",
    "print(f\"Home price: {get_median_house_sale(best_state, 2023):.2f}\")\n",
    "print(f\"Interest rate: {get_interest_rate(2023) * 100:.1f}%\", end=\"\\n\\n\")\n",
    "print(f\"Least affordable state to buy a house in 2023 is {worst_state}, with the mortgage costing {biggest_cut * 100:.1f}% of the median salary\")\n",
    "print(f\"Median Salary: {get_median_salary(worst_state, 2023)}\")\n",
    "print(f\"Home price: {get_median_house_sale(worst_state, 2023):.2f}\")\n",
    "print(f\"Interest rate: {get_interest_rate(2023) * 100:.1f}%\")"
   ],
   "id": "8b1f362d6e24d504",
   "outputs": [
    {
     "name": "stdout",
     "output_type": "stream",
     "text": [
      "Most affordable state to buy a house in 2023 is Kansas, with the mortgage costing 19.5% of the median salary\n",
      "Median Salary: 84830.0\n",
      "Home price: 211394.42\n",
      "Interest rate: 6.8%\n",
      "\n",
      "Least affordable state to buy a house in 2023 is Hawaii, with the mortgage costing 66.2% of the median salary\n",
      "Median Salary: 97360.0\n",
      "Home price: 823309.28\n",
      "Interest rate: 6.8%\n"
     ]
    }
   ],
   "execution_count": 4
  },
  {
   "metadata": {},
   "cell_type": "markdown",
   "source": "**Task**: Get change in salary, house sales, and interest rates on mortgages",
   "id": "6b9b989882d96461"
  },
  {
   "metadata": {
    "ExecuteTime": {
     "end_time": "2025-01-03T16:12:44.350627Z",
     "start_time": "2025-01-03T16:12:44.339681Z"
    }
   },
   "cell_type": "code",
   "source": [
    "median_salary_2009 = get_us_median_salary(2009)\n",
    "median_salary_2023 = get_us_median_salary(2023)\n",
    "print(f\"Median Salary in 2009: {median_salary_2009}\")\n",
    "print(f\"Median Salary in 2023: {median_salary_2023}\")\n",
    "print(f\"Salaries increased by {(median_salary_2023 / median_salary_2009 - 1) * 100:.1f}%\")\n",
    "print()\n",
    "\n",
    "median_house_sale_2009 = get_us_median_house_sale(2009)\n",
    "median_house_sale_2023 = get_us_median_house_sale(2023)\n",
    "print(f\"Median House Sale in 2009: {median_house_sale_2009}\")\n",
    "print(f\"Median House Sale in 2023: {median_house_sale_2023}\")\n",
    "print(f\"House Sales Increased by {(median_house_sale_2023 / median_house_sale_2009 - 1) * 100:.1f}%\")\n",
    "print()\n",
    "\n",
    "avg_interest_rate_2009 = get_interest_rate(2009)\n",
    "avg_interest_rate_2023 = get_interest_rate(2023)\n",
    "print(f\"Average Mortgage Interest Rate in 2009: {avg_interest_rate_2009 * 100:.2}%\")\n",
    "print(f\"Average Mortgage Interest Rate in 2023: {avg_interest_rate_2023 * 100:.2}%\")\n",
    "print(f\"Average Mortgage Interest Rate Increased by {(avg_interest_rate_2023 - avg_interest_rate_2009) * 100:.2}%\")"
   ],
   "id": "dbb6f31a612d860",
   "outputs": [
    {
     "name": "stdout",
     "output_type": "stream",
     "text": [
      "Median Salary in 2009: 68340.0\n",
      "Median Salary in 2023: 80610.0\n",
      "Salaries increased by 18.0%\n",
      "\n",
      "Median House Sale in 2009: 215650.0\n",
      "Median House Sale in 2023: 426525.0\n",
      "House Sales Increased by 97.8%\n",
      "\n",
      "Average Mortgage Interest Rate in 2009: 5.0%\n",
      "Average Mortgage Interest Rate in 2023: 6.8%\n",
      "Average Mortgage Interest Rate Increased by 1.8%\n"
     ]
    }
   ],
   "execution_count": 10
  },
  {
   "metadata": {
    "ExecuteTime": {
     "end_time": "2025-01-03T16:05:21.798611Z",
     "start_time": "2025-01-03T16:05:21.785644Z"
    }
   },
   "cell_type": "code",
   "source": "",
   "id": "c845dbec11f8439d",
   "outputs": [],
   "execution_count": null
  }
 ],
 "metadata": {
  "kernelspec": {
   "display_name": "Python 3",
   "language": "python",
   "name": "python3"
  },
  "language_info": {
   "codemirror_mode": {
    "name": "ipython",
    "version": 2
   },
   "file_extension": ".py",
   "mimetype": "text/x-python",
   "name": "python",
   "nbconvert_exporter": "python",
   "pygments_lexer": "ipython2",
   "version": "2.7.6"
  }
 },
 "nbformat": 4,
 "nbformat_minor": 5
}
